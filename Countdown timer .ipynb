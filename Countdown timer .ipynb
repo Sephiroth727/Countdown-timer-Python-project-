{
 "cells": [
  {
   "cell_type": "code",
   "execution_count": 1,
   "metadata": {},
   "outputs": [
    {
     "name": "stdout",
     "output_type": "stream",
     "text": [
      "Enter the time in seconds: 60\n",
      "Countdown time has elapsed!!\n"
     ]
    }
   ],
   "source": [
    "import time\n",
    "\n",
    "t = input(\"Enter the time in seconds: \")\n",
    "\n",
    "def countdown(t):\n",
    "  while t:\n",
    "    mins, secs = divmod(t, 60)\n",
    "    timer = '{:02d}:{:02d}'.format(mins, secs)\n",
    "    print(timer, end=\"\\r\")\n",
    "    time.sleep(1)\n",
    "    t -= 1\n",
    "\n",
    "  print('Countdown time has elapsed!!')\n",
    "\n",
    "\n",
    "countdown(int(t))\n"
   ]
  },
  {
   "cell_type": "code",
   "execution_count": null,
   "metadata": {},
   "outputs": [],
   "source": []
  }
 ],
 "metadata": {
  "kernelspec": {
   "display_name": "Python 3",
   "language": "python",
   "name": "python3"
  },
  "language_info": {
   "codemirror_mode": {
    "name": "ipython",
    "version": 3
   },
   "file_extension": ".py",
   "mimetype": "text/x-python",
   "name": "python",
   "nbconvert_exporter": "python",
   "pygments_lexer": "ipython3",
   "version": "3.7.0"
  }
 },
 "nbformat": 4,
 "nbformat_minor": 2
}
